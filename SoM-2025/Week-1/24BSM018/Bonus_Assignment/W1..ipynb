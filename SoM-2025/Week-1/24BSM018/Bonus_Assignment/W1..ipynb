{
  "cells": [
    {
      "cell_type": "markdown",
      "metadata": {
        "id": "lV7ZG3lKzB-d"
      },
      "source": [
        "# Week-1 Assignment"
      ]
    },
    {
      "cell_type": "markdown",
      "metadata": {
        "id": "ihbDgfEwZ_Rx"
      },
      "source": [
        "\n",
        "## ***Bonus Questions***\n",
        "## Here are some bonus questions that you can try further !\n",
        "\n",
        "### These questions are UNGRADED, and are given as an extra exercise."
      ]
    },
    {
      "cell_type": "code",
      "execution_count": null,
      "metadata": {},
      "outputs": [],
      "source": [
        "import numpy as np\n",
        "import pandas as pd\n",
        "import matplotlib.pyplot as plt\n",
        "import seaborn as sns\n",
        "import plotly.express as px\n",
        "week1File=pd.read_csv(\"Week-1\\24BSM018\\W1_Pokemon.csv\", encoding='utf=8')"
      ]
    },
    {
      "cell_type": "markdown",
      "metadata": {
        "id": "xTFgCWtqdZSi"
      },
      "source": [
        "### Which pokemon has the highest combined value of Attack and Sp. Atk ?"
      ]
    },
    {
      "cell_type": "code",
      "execution_count": 69,
      "metadata": {
        "colab": {
          "base_uri": "https://localhost:8080/",
          "height": 0
        },
        "id": "BMLOKdEQdg_J",
        "outputId": "239bb518-c650-4f2e-a841-8a0081edaee7"
      },
      "outputs": [
        {
          "name": "stdout",
          "output_type": "stream",
          "text": [
            "                        Type 1  Type 2  Total   HP  Attack  Defense  Sp. Atk  \\\n",
            "Name                                                                           \n",
            "RayquazaMega Rayquaza   Dragon  Flying    780  105     180      100      180   \n",
            "DeoxysAttack Forme     Psychic     NaN    600   50     180       20      180   \n",
            "\n",
            "                       Sp. Def  Speed  Generation  Legendary           Powers  \\\n",
            "Name                                                                            \n",
            "RayquazaMega Rayquaza      100    115           3       True  Dragon + Flying   \n",
            "DeoxysAttack Forme          20    150           3       True              NaN   \n",
            "\n",
            "                       Total_Attack  \n",
            "Name                                 \n",
            "RayquazaMega Rayquaza           360  \n",
            "DeoxysAttack Forme              360  \n"
          ]
        }
      ],
      "source": [
        "week1File[\"Total_Attack\"] = week1File[\"Attack\"] + week1File[\"Sp. Atk\"]\n",
        "max_attack_pokemon = week1File[week1File[\"Total_Attack\"] == week1File[\"Total_Attack\"].max()]\n",
        "print(max_attack_pokemon)\n",
        "\n"
      ]
    },
    {
      "cell_type": "markdown",
      "metadata": {
        "id": "0nJ76FFIeTKq"
      },
      "source": [
        "### Which type of legendary pokemons are the most common?"
      ]
    },
    {
      "cell_type": "code",
      "execution_count": 70,
      "metadata": {
        "colab": {
          "base_uri": "https://localhost:8080/",
          "height": 0
        },
        "id": "e6XecJLkeUmK",
        "outputId": "86710f21-698f-4bde-e7c1-eb6ee818914c"
      },
      "outputs": [
        {
          "name": "stdout",
          "output_type": "stream",
          "text": [
            "The most common Legendary Pokémon type is: Psychic\n",
            "\n",
            "Type counts:\n",
            " Type 1\n",
            "Psychic     14\n",
            "Dragon      12\n",
            "Fire         5\n",
            "Rock         4\n",
            "Water        4\n",
            "Steel        4\n",
            "Electric     4\n",
            "Ground       4\n",
            "Grass        3\n",
            "Ice          2\n",
            "Normal       2\n",
            "Ghost        2\n",
            "Dark         2\n",
            "Flying       2\n",
            "Fairy        1\n",
            "Name: count, dtype: int64\n"
          ]
        }
      ],
      "source": [
        "legendary_pokemon = week1File [week1File[\"Legendary\"] == True]\n",
        "type_counts = legendary_pokemon[\"Type 1\"].value_counts()\n",
        "most_common_type = type_counts.idxmax()\n",
        "print(f\"The most common Legendary Pokémon type is: {most_common_type}\")\n",
        "print(\"\\nType counts:\\n\", type_counts)\n",
        "\n"
      ]
    },
    {
      "cell_type": "markdown",
      "metadata": {
        "id": "TyyKAFLGdHtx"
      },
      "source": [
        "### How many generation-3, non-legendary pokemons have higher HP than the weakest generation-6, legendary pokemon?"
      ]
    },
    {
      "cell_type": "code",
      "execution_count": 71,
      "metadata": {
        "colab": {
          "base_uri": "https://localhost:8080/",
          "height": 0
        },
        "id": "wvcifD48dYsC",
        "outputId": "1518dcf8-528e-41e9-e7d1-4deaa3c047f0"
      },
      "outputs": [
        {
          "name": "stdout",
          "output_type": "stream",
          "text": [
            "95\n"
          ]
        }
      ],
      "source": [
        "weakest_hp = week1File[(week1File[\"Generation\"] == 6) & (week1File[\"Legendary\"])][\"HP\"].min()\n",
        "\n",
        "# Count Gen 3 non-legendary Pokémon with higher HP\n",
        "count_pokemon = ((week1File[\"Generation\"] == 3) & (~week1File[\"Legendary\"]) & (week1File[\"HP\"] > weakest_hp)).sum()\n",
        "\n",
        "print(count_pokemon)\n"
      ]
    },
    {
      "cell_type": "markdown",
      "metadata": {
        "id": "p1uR1Aeld73z"
      },
      "source": [
        "### Print out the third slowest pokemon(s) in the dataset."
      ]
    },
    {
      "cell_type": "code",
      "execution_count": 72,
      "metadata": {
        "colab": {
          "base_uri": "https://localhost:8080/",
          "height": 0
        },
        "id": "M5pMhQOldiFC",
        "outputId": "26d943e1-95fd-42cc-d920-98128a544bf7"
      },
      "outputs": [
        {
          "name": "stdout",
          "output_type": "stream",
          "text": [
            "Type 1          Ground\n",
            "Type 2             NaN\n",
            "Total              290\n",
            "HP                  45\n",
            "Attack             100\n",
            "Defense             45\n",
            "Sp. Atk             45\n",
            "Sp. Def             45\n",
            "Speed               10\n",
            "Generation           3\n",
            "Legendary        False\n",
            "Powers             NaN\n",
            "Total_Attack       145\n",
            "Name: Trapinch, dtype: object\n"
          ]
        }
      ],
      "source": [
        "sorted_pokemon = week1File.sort_values(by=\"Speed\", ascending=True)\n",
        "third_slowest = sorted_pokemon.iloc[2]\n",
        "print(third_slowest)\n",
        "\n"
      ]
    },
    {
      "cell_type": "markdown",
      "metadata": {
        "id": "XlouMVO2eOhy"
      },
      "source": [
        "### Which pokemon type has the highest average HP?"
      ]
    },
    {
      "cell_type": "code",
      "execution_count": 73,
      "metadata": {
        "colab": {
          "base_uri": "https://localhost:8080/",
          "height": 0
        },
        "id": "ju2a0YAWeiCq",
        "outputId": "4a4b8b8b-f5c6-4fca-f906-85688bfe6922"
      },
      "outputs": [
        {
          "name": "stdout",
          "output_type": "stream",
          "text": [
            "Pokémon with the highest average HP is: Dragon with an average HP of 83.3125\n"
          ]
        }
      ],
      "source": [
        "avg_hp_by_type = week1File.groupby(\"Type 1\")[\"HP\"].mean()\n",
        "\n",
        "highest_avg_hp_type = avg_hp_by_type.idxmax()\n",
        "highest_avg_hp_value = avg_hp_by_type.max()\n",
        "\n",
        "print(f\"Pokémon with the highest average HP is: {highest_avg_hp_type} with an average HP of {highest_avg_hp_value}\")\n",
        "\n"
      ]
    }
  ],
  "metadata": {
    "colab": {
      "provenance": []
    },
    "kernelspec": {
      "display_name": "Python 3",
      "language": "python",
      "name": "python3"
    },
    "language_info": {
      "codemirror_mode": {
        "name": "ipython",
        "version": 3
      },
      "file_extension": ".py",
      "mimetype": "text/x-python",
      "name": "python",
      "nbconvert_exporter": "python",
      "pygments_lexer": "ipython3",
      "version": "3.7.6"
    }
  },
  "nbformat": 4,
  "nbformat_minor": 0
}
